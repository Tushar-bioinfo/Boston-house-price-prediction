{
 "cells": [
  {
   "cell_type": "markdown",
   "metadata": {},
   "source": [
    "### Imports"
   ]
  },
  {
   "cell_type": "code",
   "execution_count": 3,
   "metadata": {},
   "outputs": [],
   "source": [
    "import pandas as pd \n",
    "import numpy as np\n",
    "from sklearn.linear_model import LinearRegression as LR\n",
    "from sklearn.metrics import mean_squared_error as mse\n",
    "from sklearn.model_selection import train_test_split as tts\n",
    "import matplotlib.pyplot as plt\n",
    "import seaborn as sb\n",
    "import statsmodels.api as sm\n",
    "from statsmodels.stats.outliers_influence import variance_inflation_factor as vif"
   ]
  },
  {
   "cell_type": "markdown",
   "metadata": {},
   "source": [
    "### Dataset "
   ]
  },
  {
   "cell_type": "code",
   "execution_count": 4,
   "metadata": {},
   "outputs": [],
   "source": [
    "data_url = \"http://lib.stat.cmu.edu/datasets/boston\"\n",
    "raw_df = pd.read_csv(data_url, sep=\"\\\\s+\", skiprows=22, header=None)\n",
    "data = np.hstack([raw_df.values[::2, :], raw_df.values[1::2, :2]])\n",
    "target = raw_df.values[1::2, 2]\n",
    "\n",
    "features = [\n",
    "    \"CRIM\",     # per capita crime rate by town\n",
    "    \"ZN\",       # proportion of residential land zoned for lots over 25,000 sq.ft.\n",
    "    \"INDUS\",    # proportion of non-retail business acres per town\n",
    "    \"CHAS\",     # Charles River dummy variable (= 1 if tract bounds river; 0 otherwise)\n",
    "    \"NOX\",      # nitric oxides concentration (parts per 10 million)\n",
    "    \"RM\",       # average number of rooms per dwelling\n",
    "    \"AGE\",      # proportion of owner-occupied units built prior to 1940\n",
    "    \"DIS\",      # weighted distances to five Boston employment centres\n",
    "    \"RAD\",      # index of accessibility to radial highways\n",
    "    \"TAX\",      # full-value property-tax rate per $10,000\n",
    "    \"PTRATIO\",  # pupil-teacher ratio by town\n",
    "    \"B\",        # 1000(Bk - 0.63)^2 where Bk is the proportion of Black residents by town\n",
    "    \"LSTAT\"     # % lower status of the population\n",
    "]\n",
    "\n",
    "data = pd.DataFrame(data=data, columns=features)\n",
    "data[\"Price\"] = target\n",
    "data = data.drop([\"INDUS\",\"AGE\"] , axis =1)\n",
    "log_prices = np.log(data.Price)\n",
    "target = pd.DataFrame(data=log_prices, columns=[\"Price\"])\n",
    "features = data.drop([\"Price\"],axis=1)\n",
    "property_stats  = np.ndarray(shape=(1,11))"
   ]
  },
  {
   "cell_type": "markdown",
   "metadata": {},
   "source": [
    "#### stick\n"
   ]
  },
  {
   "cell_type": "code",
   "execution_count": 5,
   "metadata": {},
   "outputs": [
    {
     "data": {
      "text/plain": [
       "array([[3.61352356e+00, 1.13636364e+01, 6.91699605e-02, 5.54695059e-01,\n",
       "        6.28463439e+00, 3.79504269e+00, 9.54940711e+00, 4.08237154e+02,\n",
       "        1.84555336e+01, 3.56674032e+02, 1.26530632e+01]])"
      ]
     },
     "execution_count": 5,
     "metadata": {},
     "output_type": "execute_result"
    }
   ],
   "source": [
    "RM_IDX = 4\n",
    "CHAS_IDX = 2\n",
    "property_stats = features.mean().values.reshape(1,11)\n",
    "property_stats\n"
   ]
  },
  {
   "cell_type": "markdown",
   "metadata": {},
   "source": [
    "#### Fitting  Model using SKlearn\n"
   ]
  },
  {
   "cell_type": "code",
   "execution_count": 6,
   "metadata": {},
   "outputs": [],
   "source": [
    "regr = LR()\n",
    "regr.fit(features,target)\n",
    "fitted_vals = regr.predict(features)"
   ]
  },
  {
   "cell_type": "markdown",
   "metadata": {},
   "source": [
    "#### Computing MSE & RMSE"
   ]
  },
  {
   "cell_type": "code",
   "execution_count": 7,
   "metadata": {},
   "outputs": [
    {
     "name": "stdout",
     "output_type": "stream",
     "text": [
      "RMSE:  0.18751213519713034\n",
      "MSE:  0.03516080084618688\n"
     ]
    }
   ],
   "source": [
    "MSE = mse(target,fitted_vals)\n",
    "RMSE = np.sqrt(MSE)\n",
    "print(\"RMSE: \", RMSE)\n",
    "print(\"MSE: \" , MSE)"
   ]
  },
  {
   "cell_type": "markdown",
   "metadata": {},
   "source": [
    "### Estimator (main Function)"
   ]
  },
  {
   "cell_type": "code",
   "execution_count": 8,
   "metadata": {},
   "outputs": [],
   "source": [
    "### Select current Median price of houses in Boston in  -> villow_median_price\n",
    "villow_median_price = 583.3\n",
    "training_median = 21.199\n",
    "\n",
    "## our scaling factor \n",
    "sc = villow_median_price/training_median\n",
    "\n",
    "def get_log_estimate(rooms_num , next_2_river = False,high_confidence = True):\n",
    "    \n",
    "    \"\"\"\n",
    "    Estimate the price of a property in Boston \n",
    "    \n",
    "    Keywords Arguments:\n",
    "    rooms_num -- Number of Rooms \n",
    "    next_2_river -- True is property is next to river , False otherwise  \n",
    "    high_confidence -- True for a 95% Prediction Interval, False for a 68% Interval \n",
    "\n",
    "\n",
    "    \"\"\"\n",
    "\n",
    "    if rooms_num <1 or rooms_num > 8:  \n",
    "        print(\"Please enter a more realistic number \")\n",
    "        \n",
    "        return None\n",
    "    ## Room indexing\n",
    "    property_stats[0][RM_IDX] = rooms_num\n",
    "\n",
    "    ## River indexing \n",
    "    if next_2_river:\n",
    "        property_stats[0][CHAS_IDX] = 1\n",
    "    else:\n",
    "        property_stats[0][CHAS_IDX] = 0\n",
    "\n",
    "    ## converting to df \n",
    "    property_stats_df = pd.DataFrame(data = property_stats , columns=features.columns)\n",
    "    ##  Prediction \n",
    "    log_estimate = regr.predict(property_stats_df).item()\n",
    "    \n",
    "    ## Confidence calc\n",
    "    if high_confidence:\n",
    "        upper_bound = log_estimate + 2* RMSE\n",
    "        lower_bound = log_estimate - 2* RMSE\n",
    "        interval = 95\n",
    "    else :\n",
    "        upper_bound = log_estimate +  RMSE\n",
    "        lower_bound = log_estimate -  RMSE\n",
    "        interval = 68\n",
    "\n",
    "    return log_estimate, upper_bound, lower_bound , interval"
   ]
  },
  {
   "cell_type": "markdown",
   "metadata": {},
   "source": [
    "## Guessr"
   ]
  },
  {
   "cell_type": "code",
   "execution_count": 19,
   "metadata": {},
   "outputs": [
    {
     "name": "stdout",
     "output_type": "stream",
     "text": [
      "Estimated price: $468,000\n",
      "Estimated price range: $322,000 - $682,000 with confidence of 95%\n"
     ]
    }
   ],
   "source": [
    "###################################################################################\n",
    "\n",
    "#  Estimate the price of a property in Boston \n",
    "    \n",
    "# Keywords Arguments:\n",
    "# rooms_num -- Number of Rooms \n",
    "# next_2_river -- True is property is next to river , False otherwise  \n",
    "# high_confidence -- True for a 95% Prediction Interval, False for a 68% Interval \n",
    "\n",
    "###################################################################################\n",
    "\n",
    "Num_of_rooms = 3\n",
    "next_2_river = True\n",
    "high_confidence = True\n",
    "\n",
    "def get_actual_price():\n",
    "    # Passing the get_log_estimate values \n",
    "    result = get_log_estimate(Num_of_rooms, next_2_river=next_2_river, high_confidence=high_confidence)\n",
    "    \n",
    "    if result is None:\n",
    "        return None\n",
    "    \n",
    "    estimated_price, ub, lb, intv = result\n",
    "    \n",
    "    # Converting to actual $ & scaling to today's prices \n",
    "    actual_price = np.e ** estimated_price  \n",
    "    inflated_price = np.around((actual_price * sc) * 1000, -3)\n",
    "    upper_range = np.around(np.e ** ub * 1000 * sc, -3)\n",
    "    lower_range = np.around(np.e ** lb * 1000 * sc, -3)\n",
    "    \n",
    "    return inflated_price, upper_range, lower_range, intv\n",
    "\n",
    "result = get_actual_price()\n",
    "\n",
    "if result:\n",
    "    price, ur, lr, intv = result\n",
    "    print(f\"Estimated price: ${price:,.0f}\")\n",
    "    print(f\"Estimated price range: ${lr:,.0f} - ${ur:,.0f} with confidence of {intv}%\")\n",
    "else:\n",
    "    print(\"Could not estimate price due to invalid input.\")"
   ]
  },
  {
   "cell_type": "code",
   "execution_count": null,
   "metadata": {},
   "outputs": [],
   "source": []
  }
 ],
 "metadata": {
  "kernelspec": {
   "display_name": "ML_practice",
   "language": "python",
   "name": "python3"
  },
  "language_info": {
   "codemirror_mode": {
    "name": "ipython",
    "version": 3
   },
   "file_extension": ".py",
   "mimetype": "text/x-python",
   "name": "python",
   "nbconvert_exporter": "python",
   "pygments_lexer": "ipython3",
   "version": "3.11.11"
  }
 },
 "nbformat": 4,
 "nbformat_minor": 2
}
